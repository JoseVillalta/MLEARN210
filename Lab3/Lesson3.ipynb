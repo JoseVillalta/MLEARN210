{
 "cells": [
  {
   "cell_type": "markdown",
   "metadata": {},
   "source": [
    "<h1>Lesson 3. Classification: Credit worthiness from German bank</h1>"
   ]
  },
  {
   "cell_type": "markdown",
   "metadata": {},
   "source": [
    "<img src=\"https://upload.wikimedia.org/wikipedia/commons/8/8e/Flag_map_of_Germany.svg\" style=\"height:200px;\">\n",
    "  \n",
    "  <p>In this exercise you will predict credit worthiness of custmers of a German bank (<a href=\"https://archive.ics.uci.edu/ml/datasets/statlog+(german+credit+data)\">provided by Hans Hofmann from Univeristy of Hamburg</a>). The data we will be working with here is a reduced version of the full dataset.</p>\n",
    "<p>The following features are available for the 1000-row dataset:</p>\n",
    "<ul>\n",
    "<li>Class: Credit worthiness (what you are trying to predict)</li>\n",
    "<li>Duration: Duration of the credit (in months) </li>\n",
    "<li>Amount: Amount of money asked for (in Deutche Marks (DM))</li>\n",
    "<li>InstallmentRatePercentage: Installment rate in percentage of disposable income </li>\n",
    "<li>ResidenceDuration: Number of years at current residence</li>\n",
    "<li>Age: Person's age</li>\n",
    "<li>NumberExistingCredits: Number of credit accounts</li>\n",
    "<li>NumberPeopleMaintenance: Number of people being liable to provide maintenance for the credit</li>\n",
    "<li>Telephone: Is there a phone number associated with the customer name?  </li>\n",
    "<li>ForeignWorker: Is the person a foreign worker?</li>\n",
    "<li>CheckingAccountStatus: Amount of money in the checking account (in DM)<ul>\n",
    "<li>CheckingAccountStatus.lt.0</li>\n",
    "<li>CheckingAccountStatus.0.to.200</li>\n",
    "<li>CheckingAccountStatus.gt.200</li>\n",
    "</ul></li>\n",
    "<li>CreditHistory: Past credit history<ul>\n",
    "<li>CreditHistory.ThisBank.AllPaid</li>\n",
    "<li>CreditHistory.PaidDuly</li>\n",
    "<li>CreditHistory.Delay</li>\n",
    "<li>CreditHistory.Critical</li>\n",
    "</ul></li>\n",
    "</ul>\n",
    "\n",
    "<p>This dataset is available in <a href=\"http://caret.r-forge.r-project.org/\">'caret'</a> library. Let's load it and see how it looks:</p>"
   ]
  },
  {
   "cell_type": "code",
   "execution_count": 1,
   "metadata": {},
   "outputs": [
    {
     "data": {
      "text/html": [
       "<div>\n",
       "<style>\n",
       "    .dataframe thead tr:only-child th {\n",
       "        text-align: right;\n",
       "    }\n",
       "\n",
       "    .dataframe thead th {\n",
       "        text-align: left;\n",
       "    }\n",
       "\n",
       "    .dataframe tbody tr th {\n",
       "        vertical-align: top;\n",
       "    }\n",
       "</style>\n",
       "<table border=\"1\" class=\"dataframe\">\n",
       "  <thead>\n",
       "    <tr style=\"text-align: right;\">\n",
       "      <th></th>\n",
       "      <th>Class</th>\n",
       "      <th>Duration</th>\n",
       "      <th>Amount</th>\n",
       "      <th>InstallmentRatePercentage</th>\n",
       "      <th>ResidenceDuration</th>\n",
       "      <th>Age</th>\n",
       "      <th>NumberExistingCredits</th>\n",
       "      <th>NumberPeopleMaintenance</th>\n",
       "      <th>Telephone</th>\n",
       "      <th>ForeignWorker</th>\n",
       "      <th>CheckingAccountStatus.lt.0</th>\n",
       "      <th>CheckingAccountStatus.0.to.200</th>\n",
       "      <th>CheckingAccountStatus.gt.200</th>\n",
       "      <th>CreditHistory.ThisBank.AllPaid</th>\n",
       "      <th>CreditHistory.PaidDuly</th>\n",
       "      <th>CreditHistory.Delay</th>\n",
       "      <th>CreditHistory.Critical</th>\n",
       "    </tr>\n",
       "  </thead>\n",
       "  <tbody>\n",
       "    <tr>\n",
       "      <th>0</th>\n",
       "      <td>Good</td>\n",
       "      <td>6</td>\n",
       "      <td>1169</td>\n",
       "      <td>4</td>\n",
       "      <td>4</td>\n",
       "      <td>67</td>\n",
       "      <td>2</td>\n",
       "      <td>1</td>\n",
       "      <td>0</td>\n",
       "      <td>1</td>\n",
       "      <td>1</td>\n",
       "      <td>0</td>\n",
       "      <td>0</td>\n",
       "      <td>0</td>\n",
       "      <td>0</td>\n",
       "      <td>0</td>\n",
       "      <td>1</td>\n",
       "    </tr>\n",
       "    <tr>\n",
       "      <th>1</th>\n",
       "      <td>Bad</td>\n",
       "      <td>48</td>\n",
       "      <td>5951</td>\n",
       "      <td>2</td>\n",
       "      <td>2</td>\n",
       "      <td>22</td>\n",
       "      <td>1</td>\n",
       "      <td>1</td>\n",
       "      <td>1</td>\n",
       "      <td>1</td>\n",
       "      <td>0</td>\n",
       "      <td>1</td>\n",
       "      <td>0</td>\n",
       "      <td>0</td>\n",
       "      <td>1</td>\n",
       "      <td>0</td>\n",
       "      <td>0</td>\n",
       "    </tr>\n",
       "    <tr>\n",
       "      <th>2</th>\n",
       "      <td>Good</td>\n",
       "      <td>12</td>\n",
       "      <td>2096</td>\n",
       "      <td>2</td>\n",
       "      <td>3</td>\n",
       "      <td>49</td>\n",
       "      <td>1</td>\n",
       "      <td>2</td>\n",
       "      <td>1</td>\n",
       "      <td>1</td>\n",
       "      <td>0</td>\n",
       "      <td>0</td>\n",
       "      <td>0</td>\n",
       "      <td>0</td>\n",
       "      <td>0</td>\n",
       "      <td>0</td>\n",
       "      <td>1</td>\n",
       "    </tr>\n",
       "    <tr>\n",
       "      <th>3</th>\n",
       "      <td>Good</td>\n",
       "      <td>36</td>\n",
       "      <td>9055</td>\n",
       "      <td>2</td>\n",
       "      <td>4</td>\n",
       "      <td>35</td>\n",
       "      <td>1</td>\n",
       "      <td>2</td>\n",
       "      <td>0</td>\n",
       "      <td>1</td>\n",
       "      <td>0</td>\n",
       "      <td>0</td>\n",
       "      <td>0</td>\n",
       "      <td>0</td>\n",
       "      <td>1</td>\n",
       "      <td>0</td>\n",
       "      <td>0</td>\n",
       "    </tr>\n",
       "    <tr>\n",
       "      <th>4</th>\n",
       "      <td>Good</td>\n",
       "      <td>24</td>\n",
       "      <td>2835</td>\n",
       "      <td>3</td>\n",
       "      <td>4</td>\n",
       "      <td>53</td>\n",
       "      <td>1</td>\n",
       "      <td>1</td>\n",
       "      <td>1</td>\n",
       "      <td>1</td>\n",
       "      <td>0</td>\n",
       "      <td>0</td>\n",
       "      <td>0</td>\n",
       "      <td>0</td>\n",
       "      <td>1</td>\n",
       "      <td>0</td>\n",
       "      <td>0</td>\n",
       "    </tr>\n",
       "  </tbody>\n",
       "</table>\n",
       "</div>"
      ],
      "text/plain": [
       "  Class  Duration  Amount  InstallmentRatePercentage  ResidenceDuration  Age  \\\n",
       "0  Good         6    1169                          4                  4   67   \n",
       "1   Bad        48    5951                          2                  2   22   \n",
       "2  Good        12    2096                          2                  3   49   \n",
       "3  Good        36    9055                          2                  4   35   \n",
       "4  Good        24    2835                          3                  4   53   \n",
       "\n",
       "   NumberExistingCredits  NumberPeopleMaintenance  Telephone  ForeignWorker  \\\n",
       "0                      2                        1          0              1   \n",
       "1                      1                        1          1              1   \n",
       "2                      1                        2          1              1   \n",
       "3                      1                        2          0              1   \n",
       "4                      1                        1          1              1   \n",
       "\n",
       "   CheckingAccountStatus.lt.0  CheckingAccountStatus.0.to.200  \\\n",
       "0                           1                               0   \n",
       "1                           0                               1   \n",
       "2                           0                               0   \n",
       "3                           0                               0   \n",
       "4                           0                               0   \n",
       "\n",
       "   CheckingAccountStatus.gt.200  CreditHistory.ThisBank.AllPaid  \\\n",
       "0                             0                               0   \n",
       "1                             0                               0   \n",
       "2                             0                               0   \n",
       "3                             0                               0   \n",
       "4                             0                               0   \n",
       "\n",
       "   CreditHistory.PaidDuly  CreditHistory.Delay  CreditHistory.Critical  \n",
       "0                       0                    0                       1  \n",
       "1                       1                    0                       0  \n",
       "2                       0                    0                       1  \n",
       "3                       1                    0                       0  \n",
       "4                       1                    0                       0  "
      ]
     },
     "execution_count": 1,
     "metadata": {},
     "output_type": "execute_result"
    }
   ],
   "source": [
    "import pandas as pd\n",
    "\n",
    "# loading the training and test dataset\n",
    "credit_train = pd.read_csv('credit_train.csv')\n",
    "credit_test = pd.read_csv('credit_test.csv')\n",
    "\n",
    "credit_train.head()"
   ]
  },
  {
   "cell_type": "markdown",
   "metadata": {},
   "source": [
    "<h3>Q.1. Show a boxplot of the age of the person asking for the credit vs. their credit worthiness for the training data. Is age a good predictor of the credit worthiness?</h3>"
   ]
  },
  {
   "cell_type": "code",
   "execution_count": 2,
   "metadata": {},
   "outputs": [
    {
     "data": {
      "image/png": "[encoded data removed]",
      "text/plain": [
       "<matplotlib.figure.Figure at 0x7f342f0e2b00>"
      ]
     },
     "metadata": {},
     "output_type": "display_data"
    }
   ],
   "source": [
    "# Put the command (or commands) here that would give an answer to the above question.\n",
    "import seaborn as sns\n",
    "import matplotlib as plt\n",
    "sns.set(style=\"whitegrid\")\n",
    "\n",
    "sns.boxplot(x=\"Age\", y=\"Class\", data=credit_train)\n",
    "sns.plt.show()\n",
    "# Comment whether age is a good predictor\n",
    "# On average people with bad credit tend to be younger. "
   ]
  },
  {
   "cell_type": "markdown",
   "metadata": {},
   "source": [
    "<h3>Q.2. Can you generate a table that shows CreditHistory.Critical vs. Credit Worthiness for the training data. Can you comment whether person with critical credit history is more credit worthy?</h3> "
   ]
  },
  {
   "cell_type": "code",
   "execution_count": 4,
   "metadata": {},
   "outputs": [
    {
     "data": {
      "text/html": [
       "<div>\n",
       "<style>\n",
       "    .dataframe thead tr:only-child th {\n",
       "        text-align: right;\n",
       "    }\n",
       "\n",
       "    .dataframe thead th {\n",
       "        text-align: left;\n",
       "    }\n",
       "\n",
       "    .dataframe tbody tr th {\n",
       "        vertical-align: top;\n",
       "    }\n",
       "</style>\n",
       "<table border=\"1\" class=\"dataframe\">\n",
       "  <thead>\n",
       "    <tr style=\"text-align: right;\">\n",
       "      <th>Class</th>\n",
       "      <th>Bad</th>\n",
       "      <th>Good</th>\n",
       "    </tr>\n",
       "    <tr>\n",
       "      <th>CreditHistory.Critical</th>\n",
       "      <th></th>\n",
       "      <th></th>\n",
       "    </tr>\n",
       "  </thead>\n",
       "  <tbody>\n",
       "    <tr>\n",
       "      <th>0</th>\n",
       "      <td>208</td>\n",
       "      <td>373</td>\n",
       "    </tr>\n",
       "    <tr>\n",
       "      <th>1</th>\n",
       "      <td>38</td>\n",
       "      <td>189</td>\n",
       "    </tr>\n",
       "  </tbody>\n",
       "</table>\n",
       "</div>"
      ],
      "text/plain": [
       "Class                   Bad  Good\n",
       "CreditHistory.Critical           \n",
       "0                       208   373\n",
       "1                        38   189"
      ]
     },
     "execution_count": 4,
     "metadata": {},
     "output_type": "execute_result"
    }
   ],
   "source": [
    "pd.crosstab(credit_train['CreditHistory.Critical'],credit_train['Class'])"
   ]
  },
  {
   "cell_type": "markdown",
   "metadata": {},
   "source": [
    "<h3>Q.3. Binarize the y output for e.g. 0 = 'bad' credit; 1 = 'good' credit. </h3>"
   ]
  },
  {
   "cell_type": "code",
   "execution_count": 3,
   "metadata": {},
   "outputs": [
    {
     "data": {
      "text/html": [
       "<div>\n",
       "<style>\n",
       "    .dataframe thead tr:only-child th {\n",
       "        text-align: right;\n",
       "    }\n",
       "\n",
       "    .dataframe thead th {\n",
       "        text-align: left;\n",
       "    }\n",
       "\n",
       "    .dataframe tbody tr th {\n",
       "        vertical-align: top;\n",
       "    }\n",
       "</style>\n",
       "<table border=\"1\" class=\"dataframe\">\n",
       "  <thead>\n",
       "    <tr style=\"text-align: right;\">\n",
       "      <th></th>\n",
       "      <th>Class</th>\n",
       "      <th>Duration</th>\n",
       "      <th>Amount</th>\n",
       "      <th>InstallmentRatePercentage</th>\n",
       "      <th>ResidenceDuration</th>\n",
       "      <th>Age</th>\n",
       "      <th>NumberExistingCredits</th>\n",
       "      <th>NumberPeopleMaintenance</th>\n",
       "      <th>Telephone</th>\n",
       "      <th>ForeignWorker</th>\n",
       "      <th>CheckingAccountStatus.lt.0</th>\n",
       "      <th>CheckingAccountStatus.0.to.200</th>\n",
       "      <th>CheckingAccountStatus.gt.200</th>\n",
       "      <th>CreditHistory.ThisBank.AllPaid</th>\n",
       "      <th>CreditHistory.PaidDuly</th>\n",
       "      <th>CreditHistory.Delay</th>\n",
       "      <th>CreditHistory.Critical</th>\n",
       "    </tr>\n",
       "  </thead>\n",
       "  <tbody>\n",
       "    <tr>\n",
       "      <th>0</th>\n",
       "      <td>1</td>\n",
       "      <td>6</td>\n",
       "      <td>1169</td>\n",
       "      <td>4</td>\n",
       "      <td>4</td>\n",
       "      <td>67</td>\n",
       "      <td>2</td>\n",
       "      <td>1</td>\n",
       "      <td>0</td>\n",
       "      <td>1</td>\n",
       "      <td>1</td>\n",
       "      <td>0</td>\n",
       "      <td>0</td>\n",
       "      <td>0</td>\n",
       "      <td>0</td>\n",
       "      <td>0</td>\n",
       "      <td>1</td>\n",
       "    </tr>\n",
       "    <tr>\n",
       "      <th>1</th>\n",
       "      <td>0</td>\n",
       "      <td>48</td>\n",
       "      <td>5951</td>\n",
       "      <td>2</td>\n",
       "      <td>2</td>\n",
       "      <td>22</td>\n",
       "      <td>1</td>\n",
       "      <td>1</td>\n",
       "      <td>1</td>\n",
       "      <td>1</td>\n",
       "      <td>0</td>\n",
       "      <td>1</td>\n",
       "      <td>0</td>\n",
       "      <td>0</td>\n",
       "      <td>1</td>\n",
       "      <td>0</td>\n",
       "      <td>0</td>\n",
       "    </tr>\n",
       "    <tr>\n",
       "      <th>2</th>\n",
       "      <td>1</td>\n",
       "      <td>12</td>\n",
       "      <td>2096</td>\n",
       "      <td>2</td>\n",
       "      <td>3</td>\n",
       "      <td>49</td>\n",
       "      <td>1</td>\n",
       "      <td>2</td>\n",
       "      <td>1</td>\n",
       "      <td>1</td>\n",
       "      <td>0</td>\n",
       "      <td>0</td>\n",
       "      <td>0</td>\n",
       "      <td>0</td>\n",
       "      <td>0</td>\n",
       "      <td>0</td>\n",
       "      <td>1</td>\n",
       "    </tr>\n",
       "    <tr>\n",
       "      <th>3</th>\n",
       "      <td>1</td>\n",
       "      <td>36</td>\n",
       "      <td>9055</td>\n",
       "      <td>2</td>\n",
       "      <td>4</td>\n",
       "      <td>35</td>\n",
       "      <td>1</td>\n",
       "      <td>2</td>\n",
       "      <td>0</td>\n",
       "      <td>1</td>\n",
       "      <td>0</td>\n",
       "      <td>0</td>\n",
       "      <td>0</td>\n",
       "      <td>0</td>\n",
       "      <td>1</td>\n",
       "      <td>0</td>\n",
       "      <td>0</td>\n",
       "    </tr>\n",
       "    <tr>\n",
       "      <th>4</th>\n",
       "      <td>1</td>\n",
       "      <td>24</td>\n",
       "      <td>2835</td>\n",
       "      <td>3</td>\n",
       "      <td>4</td>\n",
       "      <td>53</td>\n",
       "      <td>1</td>\n",
       "      <td>1</td>\n",
       "      <td>1</td>\n",
       "      <td>1</td>\n",
       "      <td>0</td>\n",
       "      <td>0</td>\n",
       "      <td>0</td>\n",
       "      <td>0</td>\n",
       "      <td>1</td>\n",
       "      <td>0</td>\n",
       "      <td>0</td>\n",
       "    </tr>\n",
       "  </tbody>\n",
       "</table>\n",
       "</div>"
      ],
      "text/plain": [
       "   Class  Duration  Amount  InstallmentRatePercentage  ResidenceDuration  Age  \\\n",
       "0      1         6    1169                          4                  4   67   \n",
       "1      0        48    5951                          2                  2   22   \n",
       "2      1        12    2096                          2                  3   49   \n",
       "3      1        36    9055                          2                  4   35   \n",
       "4      1        24    2835                          3                  4   53   \n",
       "\n",
       "   NumberExistingCredits  NumberPeopleMaintenance  Telephone  ForeignWorker  \\\n",
       "0                      2                        1          0              1   \n",
       "1                      1                        1          1              1   \n",
       "2                      1                        2          1              1   \n",
       "3                      1                        2          0              1   \n",
       "4                      1                        1          1              1   \n",
       "\n",
       "   CheckingAccountStatus.lt.0  CheckingAccountStatus.0.to.200  \\\n",
       "0                           1                               0   \n",
       "1                           0                               1   \n",
       "2                           0                               0   \n",
       "3                           0                               0   \n",
       "4                           0                               0   \n",
       "\n",
       "   CheckingAccountStatus.gt.200  CreditHistory.ThisBank.AllPaid  \\\n",
       "0                             0                               0   \n",
       "1                             0                               0   \n",
       "2                             0                               0   \n",
       "3                             0                               0   \n",
       "4                             0                               0   \n",
       "\n",
       "   CreditHistory.PaidDuly  CreditHistory.Delay  CreditHistory.Critical  \n",
       "0                       0                    0                       1  \n",
       "1                       1                    0                       0  \n",
       "2                       0                    0                       1  \n",
       "3                       1                    0                       0  \n",
       "4                       1                    0                       0  "
      ]
     },
     "execution_count": 3,
     "metadata": {},
     "output_type": "execute_result"
    }
   ],
   "source": [
    "credit_train['Class'] = (credit_train['Class']=='Good').astype(int)\n",
    "credit_train.head()"
   ]
  },
  {
   "cell_type": "markdown",
   "metadata": {},
   "source": [
    "<h3>Q.4. Generate a logistic regression model that uses the data. Provide a summary of the model. </h3>"
   ]
  },
  {
   "cell_type": "code",
   "execution_count": 4,
   "metadata": {},
   "outputs": [
    {
     "name": "stdout",
     "output_type": "stream",
     "text": [
      "<bound method ClassifierMixin.score of LogisticRegression(C=1.0, class_weight=None, dual=False, fit_intercept=True,\n",
      "          intercept_scaling=1, max_iter=100, multi_class='warn',\n",
      "          n_jobs=None, penalty='l2', random_state=None, solver='warn',\n",
      "          tol=0.0001, verbose=0, warm_start=False)>\n"
     ]
    },
    {
     "name": "stderr",
     "output_type": "stream",
     "text": [
      "/usr/local/lib/python3.5/dist-packages/sklearn/linear_model/logistic.py:432: FutureWarning: Default solver will be changed to 'lbfgs' in 0.22. Specify a solver to silence this warning.\n",
      "  FutureWarning)\n"
     ]
    }
   ],
   "source": [
    "from sklearn.linear_model import LogisticRegression\n",
    "\n",
    "X = credit_train.loc[:, credit_train.columns != 'Class']\n",
    "y = credit_train.loc[:, credit_train.columns == 'Class']\n",
    "\n",
    "\n",
    "lrm = LogisticRegression()\n",
    "\n",
    "result = lrm.fit(X,y.values.ravel())\n",
    "\n",
    "print(result.score)\n"
   ]
  },
  {
   "cell_type": "code",
   "execution_count": 5,
   "metadata": {},
   "outputs": [
    {
     "name": "stdout",
     "output_type": "stream",
     "text": [
      "Optimization terminated successfully.\n",
      "         Current function value: 0.500673\n",
      "         Iterations 6\n",
      "                                Results: Logit\n",
      "==============================================================================\n",
      "Model:                   Logit                 No. Iterations:        6.0000  \n",
      "Dependent Variable:      Class                 Pseudo R-squared:      0.185   \n",
      "Date:                    2018-10-27 10:22      AIC:                   841.0882\n",
      "No. Observations:        808                   BIC:                   916.2012\n",
      "Df Model:                15                    Log-Likelihood:        -404.54 \n",
      "Df Residuals:            792                   LL-Null:               -496.59 \n",
      "Converged:               1.0000                Scale:                 1.0000  \n",
      "------------------------------------------------------------------------------\n",
      "                                Coef.  Std.Err.    z    P>|z|   [0.025  0.975]\n",
      "------------------------------------------------------------------------------\n",
      "Duration                       -0.0236   0.0095 -2.4749 0.0133 -0.0422 -0.0049\n",
      "Amount                         -0.0000   0.0000 -1.0552 0.2913 -0.0001  0.0000\n",
      "InstallmentRatePercentage      -0.1669   0.0840 -1.9874 0.0469 -0.3316 -0.0023\n",
      "ResidenceDuration               0.0894   0.0790  1.1318 0.2577 -0.0654  0.2441\n",
      "Age                             0.0175   0.0083  2.1000 0.0357  0.0012  0.0338\n",
      "NumberExistingCredits           0.0834   0.1850  0.4510 0.6520 -0.2791  0.4460\n",
      "NumberPeopleMaintenance         0.2674   0.2500  1.0698 0.2847 -0.2225  0.7574\n",
      "Telephone                      -0.1663   0.1865 -0.8916 0.3726 -0.5318  0.1992\n",
      "ForeignWorker                  -0.2053   0.4338 -0.4732 0.6361 -1.0554  0.6449\n",
      "CheckingAccountStatus.lt.0     -1.9649   0.2282 -8.6091 0.0000 -2.4123 -1.5176\n",
      "CheckingAccountStatus.0.to.200 -1.2297   0.2317 -5.3073 0.0000 -1.6838 -0.7756\n",
      "CheckingAccountStatus.gt.200   -0.8366   0.3784 -2.2113 0.0270 -1.5782 -0.0951\n",
      "CreditHistory.ThisBank.AllPaid  1.1416   0.5388  2.1189 0.0341  0.0856  2.1976\n",
      "CreditHistory.PaidDuly          2.0644   0.4050  5.0970 0.0000  1.2706  2.8582\n",
      "CreditHistory.Delay             1.8817   0.4898  3.8421 0.0001  0.9218  2.8416\n",
      "CreditHistory.Critical          2.5781   0.4484  5.7494 0.0000  1.6993  3.4570\n",
      "==============================================================================\n",
      "\n"
     ]
    },
    {
     "name": "stderr",
     "output_type": "stream",
     "text": [
      "/usr/local/lib/python3.5/dist-packages/statsmodels/compat/pandas.py:56: FutureWarning: The pandas.core.datetools module is deprecated and will be removed in a future version. Please use the pandas.tseries module instead.\n",
      "  from pandas.core import datetools\n"
     ]
    }
   ],
   "source": [
    "# Use another approach\n",
    "import statsmodels.api as sm\n",
    "logit_model = sm.Logit(y, X)\n",
    "lg_result = logit_model.fit()\n",
    "print(lg_result.summary2())"
   ]
  },
  {
   "cell_type": "markdown",
   "metadata": {},
   "source": [
    "<h3>Q.5. Using the developed model, predict the values in credit_test and use it to output a confusion matrix.</h3>"
   ]
  },
  {
   "cell_type": "code",
   "execution_count": 7,
   "metadata": {},
   "outputs": [
    {
     "name": "stdout",
     "output_type": "stream",
     "text": [
      "0.6927083333333334\n"
     ]
    }
   ],
   "source": [
    "X_test = credit_test.loc[:, credit_test.columns != 'Class']\n",
    "\n",
    "#Need to binarize the test data\n",
    "credit_test['Class'] = (credit_test['Class']=='Good').astype(int)\n",
    "\n",
    "y_test = credit_test.loc[:, credit_test.columns == 'Class']\n",
    "\n",
    "y_pred = lrm.predict(X_test)\n",
    "\n",
    "print(lrm.score(X_test, y_test))\n"
   ]
  },
  {
   "cell_type": "code",
   "execution_count": 10,
   "metadata": {},
   "outputs": [
    {
     "data": {
      "text/plain": [
       "(18, 36, 23, 115)"
      ]
     },
     "execution_count": 10,
     "metadata": {},
     "output_type": "execute_result"
    }
   ],
   "source": [
    "from sklearn.metrics import confusion_matrix\n",
    "\n",
    "tn, fp, fn, tp = confusion_matrix(y_test, y_pred).ravel()\n",
    "\n",
    "(tn, fp, fn, tp)"
   ]
  },
  {
   "cell_type": "markdown",
   "metadata": {},
   "source": [
    "<h3>Q.6. What is the accuracy of the model on the test data?</h3>"
   ]
  },
  {
   "cell_type": "code",
   "execution_count": 12,
   "metadata": {},
   "outputs": [
    {
     "data": {
      "text/plain": [
       "0.6927083333333334"
      ]
     },
     "execution_count": 12,
     "metadata": {},
     "output_type": "execute_result"
    }
   ],
   "source": [
    "# Command that outputs acccuracy\n",
    "from sklearn.metrics import accuracy_score\n",
    "\n",
    "accuracy_score(y_test, y_pred)\n"
   ]
  },
  {
   "cell_type": "markdown",
   "metadata": {},
   "source": [
    "<h3>Q.7. Generate the ROC curve.</h3>"
   ]
  },
  {
   "cell_type": "code",
   "execution_count": 20,
   "metadata": {},
   "outputs": [],
   "source": [
    "from sklearn.metrics import roc_curve\n",
    "\n",
    "y_pred_prob = lrm.predict_proba(X)[:, 1]\n",
    "fpr_train, tpr_train, _ = roc_curve(y, y_pred_prob) \n"
   ]
  },
  {
   "cell_type": "code",
   "execution_count": 22,
   "metadata": {},
   "outputs": [
    {
     "data": {
      "image/png": "[encoded data removed]",
      "text/plain": [
       "<matplotlib.figure.Figure at 0x7f34287a7208>"
      ]
     },
     "metadata": {},
     "output_type": "display_data"
    }
   ],
   "source": [
    "import matplotlib.pyplot as plt\n",
    "\n",
    "plt.figure(1)\n",
    "plt.plot([0, 1], [0, 1], 'k--')\n",
    "plt.plot(fpr_train, tpr_train, label='RT + LR')\n",
    "\n",
    "plt.xlabel('False positive rate')\n",
    "plt.ylabel('True positive rate')\n",
    "plt.title('ROC curve')\n",
    "plt.legend(loc='best')\n",
    "plt.show()"
   ]
  },
  {
   "cell_type": "markdown",
   "metadata": {},
   "source": [
    "<h3>Q.8. What is the ROC AUC of the model on the test data?</h3>"
   ]
  },
  {
   "cell_type": "code",
   "execution_count": 24,
   "metadata": {},
   "outputs": [
    {
     "data": {
      "image/png": "[encoded data removed]",
      "text/plain": [
       "<matplotlib.figure.Figure at 0x7f342866e5f8>"
      ]
     },
     "metadata": {},
     "output_type": "display_data"
    }
   ],
   "source": [
    "# Command(s):\n",
    "y_pred_prob_test = lrm.predict_proba(X_test)[:, 1]\n",
    "fpr_test, tpr_test, _ = roc_curve(y_test, y_pred_prob_test) \n",
    "\n",
    "plt.figure(1)\n",
    "plt.plot([0, 1], [0, 1], 'k--')\n",
    "plt.plot(fpr_test, tpr_test, label='RT test + LR test')\n",
    "\n",
    "plt.xlabel('False positive rate')\n",
    "plt.ylabel('True positive rate')\n",
    "plt.title('ROC curve')\n",
    "plt.legend(loc='best')\n",
    "plt.show()\n"
   ]
  },
  {
   "cell_type": "markdown",
   "metadata": {},
   "source": [
    "<h3>Q.9. Calculate LDA model on credit_train.</h3>"
   ]
  },
  {
   "cell_type": "code",
   "execution_count": 29,
   "metadata": {},
   "outputs": [
    {
     "data": {
      "text/plain": [
       "LinearDiscriminantAnalysis(n_components=None, priors=None, shrinkage=None,\n",
       "              solver='svd', store_covariance=False, tol=0.0001)"
      ]
     },
     "execution_count": 29,
     "metadata": {},
     "output_type": "execute_result"
    }
   ],
   "source": [
    "from sklearn.discriminant_analysis import LinearDiscriminantAnalysis\n",
    "\n",
    "clf = LinearDiscriminantAnalysis()\n",
    "X = credit_train.loc[:, credit_train.columns != 'Class']\n",
    "y = credit_train.loc[:, credit_train.columns == 'Class']\n",
    "\n",
    "clf.fit(X, y.values.ravel())\n"
   ]
  },
  {
   "cell_type": "markdown",
   "metadata": {},
   "source": [
    "<h3>Q.10. What is the accuracy of the new model?</h3>"
   ]
  },
  {
   "cell_type": "code",
   "execution_count": 31,
   "metadata": {},
   "outputs": [
    {
     "data": {
      "text/plain": [
       "0.6875"
      ]
     },
     "execution_count": 31,
     "metadata": {},
     "output_type": "execute_result"
    }
   ],
   "source": [
    "y_pred_lda = clf.predict(X_test)\n",
    "accuracy_score(y_test, y_pred_lda)\n",
    "\n"
   ]
  }
 ],
 "metadata": {
  "kernelspec": {
   "display_name": "Python 3",
   "language": "python",
   "name": "python3"
  },
  "language_info": {
   "codemirror_mode": {
    "name": "ipython",
    "version": 3
   },
   "file_extension": ".py",
   "mimetype": "text/x-python",
   "name": "python",
   "nbconvert_exporter": "python",
   "pygments_lexer": "ipython3",
   "version": "3.5.2"
  }
 },
 "nbformat": 4,
 "nbformat_minor": 2
}
